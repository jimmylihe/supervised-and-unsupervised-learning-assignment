{
 "cells": [
  {
   "cell_type": "markdown",
   "metadata": {},
   "source": [
    "# Question 1"
   ]
  },
  {
   "cell_type": "markdown",
   "metadata": {},
   "source": [
    "## Initialization"
   ]
  },
  {
   "cell_type": "code",
   "execution_count": 10,
   "metadata": {},
   "outputs": [],
   "source": [
    "# import relavent libraries\n",
    "import pandas as pd\n",
    "import os\n",
    "from sklearn.preprocessing import StandardScaler\n",
    "from sklearn.cluster import KMeans, DBSCAN, AgglomerativeClustering\n",
    "from sklearn.metrics import silhouette_score\n",
    "import matplotlib.pyplot as plt\n",
    "import numpy as np"
   ]
  },
  {
   "cell_type": "code",
   "execution_count": 2,
   "metadata": {},
   "outputs": [
    {
     "data": {
      "text/html": [
       "<div>\n",
       "<style scoped>\n",
       "    .dataframe tbody tr th:only-of-type {\n",
       "        vertical-align: middle;\n",
       "    }\n",
       "\n",
       "    .dataframe tbody tr th {\n",
       "        vertical-align: top;\n",
       "    }\n",
       "\n",
       "    .dataframe thead th {\n",
       "        text-align: right;\n",
       "    }\n",
       "</style>\n",
       "<table border=\"1\" class=\"dataframe\">\n",
       "  <thead>\n",
       "    <tr style=\"text-align: right;\">\n",
       "      <th></th>\n",
       "      <th>Age</th>\n",
       "      <th>Income</th>\n",
       "      <th>SpendingScore</th>\n",
       "      <th>Savings</th>\n",
       "    </tr>\n",
       "  </thead>\n",
       "  <tbody>\n",
       "    <tr>\n",
       "      <td>0</td>\n",
       "      <td>58</td>\n",
       "      <td>77769</td>\n",
       "      <td>0.791329</td>\n",
       "      <td>6559.829923</td>\n",
       "    </tr>\n",
       "    <tr>\n",
       "      <td>1</td>\n",
       "      <td>59</td>\n",
       "      <td>81799</td>\n",
       "      <td>0.791082</td>\n",
       "      <td>5417.661426</td>\n",
       "    </tr>\n",
       "    <tr>\n",
       "      <td>2</td>\n",
       "      <td>62</td>\n",
       "      <td>74751</td>\n",
       "      <td>0.702657</td>\n",
       "      <td>9258.992965</td>\n",
       "    </tr>\n",
       "    <tr>\n",
       "      <td>3</td>\n",
       "      <td>59</td>\n",
       "      <td>74373</td>\n",
       "      <td>0.765680</td>\n",
       "      <td>7346.334504</td>\n",
       "    </tr>\n",
       "    <tr>\n",
       "      <td>4</td>\n",
       "      <td>87</td>\n",
       "      <td>17760</td>\n",
       "      <td>0.348778</td>\n",
       "      <td>16869.507130</td>\n",
       "    </tr>\n",
       "  </tbody>\n",
       "</table>\n",
       "</div>"
      ],
      "text/plain": [
       "   Age  Income  SpendingScore       Savings\n",
       "0   58   77769       0.791329   6559.829923\n",
       "1   59   81799       0.791082   5417.661426\n",
       "2   62   74751       0.702657   9258.992965\n",
       "3   59   74373       0.765680   7346.334504\n",
       "4   87   17760       0.348778  16869.507130"
      ]
     },
     "execution_count": 2,
     "metadata": {},
     "output_type": "execute_result"
    }
   ],
   "source": [
    "# Load csv and print the first 5 rows\n",
    "current_working_directory = os.getcwd()\n",
    "df = pd.read_csv(current_working_directory + '\\\\jewelry_customers.csv')\n",
    "df.head()"
   ]
  },
  {
   "cell_type": "code",
   "execution_count": 3,
   "metadata": {},
   "outputs": [
    {
     "data": {
      "text/html": [
       "<div>\n",
       "<style scoped>\n",
       "    .dataframe tbody tr th:only-of-type {\n",
       "        vertical-align: middle;\n",
       "    }\n",
       "\n",
       "    .dataframe tbody tr th {\n",
       "        vertical-align: top;\n",
       "    }\n",
       "\n",
       "    .dataframe thead th {\n",
       "        text-align: right;\n",
       "    }\n",
       "</style>\n",
       "<table border=\"1\" class=\"dataframe\">\n",
       "  <thead>\n",
       "    <tr style=\"text-align: right;\">\n",
       "      <th></th>\n",
       "      <th>Age</th>\n",
       "      <th>Income</th>\n",
       "      <th>SpendingScore</th>\n",
       "      <th>Savings</th>\n",
       "    </tr>\n",
       "  </thead>\n",
       "  <tbody>\n",
       "    <tr>\n",
       "      <td>0</td>\n",
       "      <td>-0.042287</td>\n",
       "      <td>0.062733</td>\n",
       "      <td>1.103593</td>\n",
       "      <td>-1.072467</td>\n",
       "    </tr>\n",
       "    <tr>\n",
       "      <td>1</td>\n",
       "      <td>-0.000821</td>\n",
       "      <td>0.174811</td>\n",
       "      <td>1.102641</td>\n",
       "      <td>-1.303473</td>\n",
       "    </tr>\n",
       "    <tr>\n",
       "      <td>2</td>\n",
       "      <td>0.123577</td>\n",
       "      <td>-0.021200</td>\n",
       "      <td>0.761727</td>\n",
       "      <td>-0.526556</td>\n",
       "    </tr>\n",
       "    <tr>\n",
       "      <td>3</td>\n",
       "      <td>-0.000821</td>\n",
       "      <td>-0.031712</td>\n",
       "      <td>1.004705</td>\n",
       "      <td>-0.913395</td>\n",
       "    </tr>\n",
       "    <tr>\n",
       "      <td>4</td>\n",
       "      <td>1.160228</td>\n",
       "      <td>-1.606165</td>\n",
       "      <td>-0.602619</td>\n",
       "      <td>1.012686</td>\n",
       "    </tr>\n",
       "  </tbody>\n",
       "</table>\n",
       "</div>"
      ],
      "text/plain": [
       "        Age    Income  SpendingScore   Savings\n",
       "0 -0.042287  0.062733       1.103593 -1.072467\n",
       "1 -0.000821  0.174811       1.102641 -1.303473\n",
       "2  0.123577 -0.021200       0.761727 -0.526556\n",
       "3 -0.000821 -0.031712       1.004705 -0.913395\n",
       "4  1.160228 -1.606165      -0.602619  1.012686"
      ]
     },
     "execution_count": 3,
     "metadata": {},
     "output_type": "execute_result"
    }
   ],
   "source": [
    "# Standardize each feature\n",
    "X = df.copy()\n",
    "scaler = StandardScaler()\n",
    "features = list(df)\n",
    "X[features] = scaler.fit_transform(X[features])\n",
    "X.head()"
   ]
  },
  {
   "cell_type": "markdown",
   "metadata": {},
   "source": [
    "## K-Means"
   ]
  },
  {
   "cell_type": "code",
   "execution_count": 4,
   "metadata": {},
   "outputs": [
    {
     "data": {
      "image/png": "[encoded data removed]",
      "text/plain": [
       "<Figure size 432x288 with 1 Axes>"
      ]
     },
     "metadata": {},
     "output_type": "display_data"
    },
    {
     "data": {
      "image/png": "[encoded data removed]",
      "text/plain": [
       "<Figure size 432x288 with 1 Axes>"
      ]
     },
     "metadata": {},
     "output_type": "display_data"
    }
   ],
   "source": [
    "# trying out different K and drawing out the elbow curves\n",
    "inertias = {}\n",
    "silhouettes = {}\n",
    "for k in range(2, 20):\n",
    "    kmeans = KMeans(init='k-means++', n_init=100, n_clusters=k, max_iter=1000, random_state=42).fit(X)\n",
    "    inertias[k] = kmeans.inertia_ # Inertia: Sum of distances of samples to their closest cluster center\n",
    "    silhouettes[k] = silhouette_score(X, kmeans.labels_)\n",
    "\n",
    "plt.figure()\n",
    "plt.grid(True)\n",
    "plt.plot(list(inertias.keys()), list(inertias.values()))\n",
    "plt.title('K-Means, Elbow Method')\n",
    "plt.xlabel(\"Number of clusters, K\")\n",
    "plt.ylabel(\"Inertia\")\n",
    "\n",
    "plt.figure();\n",
    "plt.grid(True);\n",
    "plt.plot(list(silhouettes.keys()), list(silhouettes.values()))\n",
    "plt.title('K-Means, Elbow Method')\n",
    "plt.xlabel(\"Number of clusters, K\")\n",
    "plt.ylabel(\"Silhouette\")\n",
    "\n",
    "plt.show()"
   ]
  },
  {
   "cell_type": "code",
   "execution_count": 5,
   "metadata": {},
   "outputs": [
    {
     "data": {
      "text/html": [
       "<div>\n",
       "<style scoped>\n",
       "    .dataframe tbody tr th:only-of-type {\n",
       "        vertical-align: middle;\n",
       "    }\n",
       "\n",
       "    .dataframe tbody tr th {\n",
       "        vertical-align: top;\n",
       "    }\n",
       "\n",
       "    .dataframe thead th {\n",
       "        text-align: right;\n",
       "    }\n",
       "</style>\n",
       "<table border=\"1\" class=\"dataframe\">\n",
       "  <thead>\n",
       "    <tr style=\"text-align: right;\">\n",
       "      <th></th>\n",
       "      <th>Age</th>\n",
       "      <th>Income</th>\n",
       "      <th>SpendingScore</th>\n",
       "      <th>Savings</th>\n",
       "      <th>K-Means Clusters</th>\n",
       "    </tr>\n",
       "  </thead>\n",
       "  <tbody>\n",
       "    <tr>\n",
       "      <td>0</td>\n",
       "      <td>58</td>\n",
       "      <td>77769</td>\n",
       "      <td>0.791329</td>\n",
       "      <td>6559.829923</td>\n",
       "      <td>1</td>\n",
       "    </tr>\n",
       "    <tr>\n",
       "      <td>1</td>\n",
       "      <td>59</td>\n",
       "      <td>81799</td>\n",
       "      <td>0.791082</td>\n",
       "      <td>5417.661426</td>\n",
       "      <td>1</td>\n",
       "    </tr>\n",
       "    <tr>\n",
       "      <td>2</td>\n",
       "      <td>62</td>\n",
       "      <td>74751</td>\n",
       "      <td>0.702657</td>\n",
       "      <td>9258.992965</td>\n",
       "      <td>1</td>\n",
       "    </tr>\n",
       "    <tr>\n",
       "      <td>3</td>\n",
       "      <td>59</td>\n",
       "      <td>74373</td>\n",
       "      <td>0.765680</td>\n",
       "      <td>7346.334504</td>\n",
       "      <td>1</td>\n",
       "    </tr>\n",
       "    <tr>\n",
       "      <td>4</td>\n",
       "      <td>87</td>\n",
       "      <td>17760</td>\n",
       "      <td>0.348778</td>\n",
       "      <td>16869.507130</td>\n",
       "      <td>2</td>\n",
       "    </tr>\n",
       "  </tbody>\n",
       "</table>\n",
       "</div>"
      ],
      "text/plain": [
       "   Age  Income  SpendingScore       Savings  K-Means Clusters\n",
       "0   58   77769       0.791329   6559.829923                 1\n",
       "1   59   81799       0.791082   5417.661426                 1\n",
       "2   62   74751       0.702657   9258.992965                 1\n",
       "3   59   74373       0.765680   7346.334504                 1\n",
       "4   87   17760       0.348778  16869.507130                 2"
      ]
     },
     "execution_count": 5,
     "metadata": {},
     "output_type": "execute_result"
    }
   ],
   "source": [
    "# based on the graphs above, running K-Means with K = 5 and storing cluster ID as a new column of df\n",
    "kmeans = KMeans(init='k-means++', n_init=100, n_clusters=5, max_iter=1000, random_state=42).fit(X)\n",
    "kmeans.fit(X)\n",
    "df['K-Means Clusters'] = kmeans.labels_\n",
    "df.head()"
   ]
  },
  {
   "cell_type": "markdown",
   "metadata": {},
   "source": [
    "## DBSCAN"
   ]
  },
  {
   "cell_type": "code",
   "execution_count": 6,
   "metadata": {},
   "outputs": [],
   "source": [
    "# the function below takes a specific min_sample value, and a range of eps and plots 2 graphs, displaying silhouette_scores and number of clusters \n",
    "def DBSCAN_parameter_tuning(eps_min,eps_max,eps_incre,min_samples):\n",
    "    silhouettes = {}\n",
    "    n_clusters = {}\n",
    "\n",
    "    for eps in np.arange(eps_min, eps_max, eps_incre):\n",
    "        db = DBSCAN(eps=eps, min_samples=min_samples).fit(X)\n",
    "        silhouettes[eps] = silhouette_score(X, db.labels_)\n",
    "        unique_labels = set(db.labels_)\n",
    "        n_clusters[eps] = len(unique_labels)\n",
    "\n",
    "    plt.figure()\n",
    "    plt.plot(list(silhouettes.keys()), list(silhouettes.values()))\n",
    "    plt.title('DBSCAN, Elbow Method, min_samples: ' + str(min_samples))\n",
    "    plt.xlabel(\"Eps\")\n",
    "    plt.ylabel(\"Silhouette\")\n",
    "    plt.grid(True)\n",
    "    plt.show()\n",
    "\n",
    "    plt.figure()\n",
    "    plt.plot(list(n_clusters.keys()), list(n_clusters.values()))\n",
    "    plt.title('DBSCAN, Number of Clusters, min_samples: ' + str(min_samples))\n",
    "    plt.xlabel(\"Eps\")\n",
    "    plt.ylabel(\"Number of Clusters\")\n",
    "    plt.grid(True)\n",
    "    plt.show()"
   ]
  },
  {
   "cell_type": "code",
   "execution_count": 7,
   "metadata": {},
   "outputs": [
    {
     "data": {
      "image/png": "[encoded data removed]",
      "text/plain": [
       "<Figure size 432x288 with 1 Axes>"
      ]
     },
     "metadata": {},
     "output_type": "display_data"
    },
    {
     "data": {
      "image/png": "[encoded data removed]",
      "text/plain": [
       "<Figure size 432x288 with 1 Axes>"
      ]
     },
     "metadata": {},
     "output_type": "display_data"
    },
    {
     "data": {
      "image/png": "[encoded data removed]",
      "text/plain": [
       "<Figure size 432x288 with 1 Axes>"
      ]
     },
     "metadata": {},
     "output_type": "display_data"
    },
    {
     "data": {
      "image/png": "[encoded data removed]",
      "text/plain": [
       "<Figure size 432x288 with 1 Axes>"
      ]
     },
     "metadata": {},
     "output_type": "display_data"
    },
    {
     "data": {
      "image/png": "[encoded data removed]",
      "text/plain": [
       "<Figure size 432x288 with 1 Axes>"
      ]
     },
     "metadata": {},
     "output_type": "display_data"
    },
    {
     "data": {
      "image/png": "[encoded data removed]",
      "text/plain": [
       "<Figure size 432x288 with 1 Axes>"
      ]
     },
     "metadata": {},
     "output_type": "display_data"
    },
    {
     "data": {
      "image/png": "[encoded data removed]",
      "text/plain": [
       "<Figure size 432x288 with 1 Axes>"
      ]
     },
     "metadata": {},
     "output_type": "display_data"
    },
    {
     "data": {
      "image/png": "[encoded data removed]",
      "text/plain": [
       "<Figure size 432x288 with 1 Axes>"
      ]
     },
     "metadata": {},
     "output_type": "display_data"
    }
   ],
   "source": [
    "# eps ranged from 0.1 to 1.0 and min_samples ranged from 3 to 6 are experienmented\n",
    "for min_sample in range(3,7):\n",
    "    DBSCAN_parameter_tuning(0.1,1.0,0.01,min_sample)"
   ]
  },
  {
   "cell_type": "code",
   "execution_count": 8,
   "metadata": {
    "scrolled": true
   },
   "outputs": [
    {
     "data": {
      "text/html": [
       "<div>\n",
       "<style scoped>\n",
       "    .dataframe tbody tr th:only-of-type {\n",
       "        vertical-align: middle;\n",
       "    }\n",
       "\n",
       "    .dataframe tbody tr th {\n",
       "        vertical-align: top;\n",
       "    }\n",
       "\n",
       "    .dataframe thead th {\n",
       "        text-align: right;\n",
       "    }\n",
       "</style>\n",
       "<table border=\"1\" class=\"dataframe\">\n",
       "  <thead>\n",
       "    <tr style=\"text-align: right;\">\n",
       "      <th></th>\n",
       "      <th>Age</th>\n",
       "      <th>Income</th>\n",
       "      <th>SpendingScore</th>\n",
       "      <th>Savings</th>\n",
       "      <th>K-Means Clusters</th>\n",
       "      <th>DBSCAN Clusters</th>\n",
       "    </tr>\n",
       "  </thead>\n",
       "  <tbody>\n",
       "    <tr>\n",
       "      <td>0</td>\n",
       "      <td>58</td>\n",
       "      <td>77769</td>\n",
       "      <td>0.791329</td>\n",
       "      <td>6559.829923</td>\n",
       "      <td>1</td>\n",
       "      <td>0</td>\n",
       "    </tr>\n",
       "    <tr>\n",
       "      <td>1</td>\n",
       "      <td>59</td>\n",
       "      <td>81799</td>\n",
       "      <td>0.791082</td>\n",
       "      <td>5417.661426</td>\n",
       "      <td>1</td>\n",
       "      <td>0</td>\n",
       "    </tr>\n",
       "    <tr>\n",
       "      <td>2</td>\n",
       "      <td>62</td>\n",
       "      <td>74751</td>\n",
       "      <td>0.702657</td>\n",
       "      <td>9258.992965</td>\n",
       "      <td>1</td>\n",
       "      <td>0</td>\n",
       "    </tr>\n",
       "    <tr>\n",
       "      <td>3</td>\n",
       "      <td>59</td>\n",
       "      <td>74373</td>\n",
       "      <td>0.765680</td>\n",
       "      <td>7346.334504</td>\n",
       "      <td>1</td>\n",
       "      <td>0</td>\n",
       "    </tr>\n",
       "    <tr>\n",
       "      <td>4</td>\n",
       "      <td>87</td>\n",
       "      <td>17760</td>\n",
       "      <td>0.348778</td>\n",
       "      <td>16869.507130</td>\n",
       "      <td>2</td>\n",
       "      <td>1</td>\n",
       "    </tr>\n",
       "  </tbody>\n",
       "</table>\n",
       "</div>"
      ],
      "text/plain": [
       "   Age  Income  SpendingScore       Savings  K-Means Clusters  DBSCAN Clusters\n",
       "0   58   77769       0.791329   6559.829923                 1                0\n",
       "1   59   81799       0.791082   5417.661426                 1                0\n",
       "2   62   74751       0.702657   9258.992965                 1                0\n",
       "3   59   74373       0.765680   7346.334504                 1                0\n",
       "4   87   17760       0.348778  16869.507130                 2                1"
      ]
     },
     "execution_count": 8,
     "metadata": {},
     "output_type": "execute_result"
    }
   ],
   "source": [
    "# based on the graphs above, running DBSCAN with eps = 0.5 and min_samples = 6 and storing cluster ID as a new column of df\n",
    "db = DBSCAN(eps=0.5, min_samples=6)\n",
    "db.fit(X)\n",
    "df['DBSCAN Clusters'] = db.labels_\n",
    "df.head()"
   ]
  },
  {
   "cell_type": "code",
   "execution_count": 17,
   "metadata": {},
   "outputs": [
    {
     "name": "stdout",
     "output_type": "stream",
     "text": [
      "2\n",
      "3\n",
      "4\n",
      "5\n"
     ]
    }
   ],
   "source": [
    "for n in range(2,5+1):\n",
    "    print(n)"
   ]
  },
  {
   "cell_type": "markdown",
   "metadata": {},
   "source": [
    "## Hierarchical"
   ]
  },
  {
   "cell_type": "code",
   "execution_count": 11,
   "metadata": {},
   "outputs": [
    {
     "data": {
      "text/plain": [
       "AgglomerativeClustering(affinity='euclidean', compute_full_tree='auto',\n",
       "                        connectivity=None, distance_threshold=None,\n",
       "                        linkage='ward', memory=None, n_clusters=5,\n",
       "                        pooling_func='deprecated')"
      ]
     },
     "execution_count": 11,
     "metadata": {},
     "output_type": "execute_result"
    }
   ],
   "source": [
    "def hierarc_parameter_tuning(list_of_clusters):\n",
    "    silhouettes = {}\n",
    "    n_clusters = {}\n",
    "    affinitys = ['euclidean', 'l1', 'l2', 'manhattan', 'cosine']\n",
    "    linkages = ['ward', 'complete', 'average', 'single']\n",
    "    \n",
    "    \n",
    "    \n",
    "    \n",
    "    for n in list_of_clusters:\n",
    "        for affinity in affinitys:\n",
    "            for linkage in linkages:\n",
    "                if linkage == 'ward' and affinity != 'euclidean':\n",
    "                    continue\n",
    "                else:\n",
    "                    agg = AgglomerativeClustering(n_clusters=n, affinity=affinity, linkage=linkage).fit(X)\n",
    "                    silhouettes[linkage + '-' + affinity] = silhouette_score(X, agg.labels_)\n",
    "                    unique_labels = set(agg.labels_)\n",
    "                    n_clusters[eps] = len(unique_labels)\n",
    "\n",
    "    plt.figure()\n",
    "    plt.plot(list(silhouettes.keys()), list(silhouettes.values()))\n",
    "    plt.title('DBSCAN, Elbow Method, min_samples: ' + str(min_samples))\n",
    "    plt.xlabel(\"Eps\")\n",
    "    plt.ylabel(\"Silhouette\")\n",
    "    plt.grid(True)\n",
    "    plt.show()\n",
    "\n",
    "    plt.figure()\n",
    "    plt.plot(list(n_clusters.keys()), list(n_clusters.values()))\n",
    "    plt.title('DBSCAN, Number of Clusters, min_samples: ' + str(min_samples))\n",
    "    plt.xlabel(\"Eps\")\n",
    "    plt.ylabel(\"Number of Clusters\")\n",
    "    plt.grid(True)\n",
    "    plt.show()\n",
    "\n",
    "agg = AgglomerativeClustering(n_clusters=5, affinity='euclidean', linkage='ward')\n",
    "agg.fit(X)"
   ]
  },
  {
   "cell_type": "markdown",
   "metadata": {},
   "source": [
    "## K-Means vs DBSCAN"
   ]
  },
  {
   "cell_type": "code",
   "execution_count": null,
   "metadata": {},
   "outputs": [],
   "source": [
    "# finding out the feature means of each K-Means cluster\n",
    "df.groupby('K-Means Clusters').mean()"
   ]
  },
  {
   "cell_type": "code",
   "execution_count": null,
   "metadata": {},
   "outputs": [],
   "source": [
    "# finding out the feature means of each DBSCAN cluster\n",
    "df.groupby('DBSCAN Clusters').mean()"
   ]
  },
  {
   "cell_type": "markdown",
   "metadata": {},
   "source": [
    "# Question 2"
   ]
  },
  {
   "cell_type": "markdown",
   "metadata": {},
   "source": [
    "## 1st Split"
   ]
  },
  {
   "cell_type": "code",
   "execution_count": null,
   "metadata": {},
   "outputs": [],
   "source": [
    "# training data imported as a Pandas Dataframe\n",
    "data2 = {'Good Behavior': [False, False, False, True, True, True],\n",
    "         'Age < 30': [True, False, True, False, False, False],\n",
    "         'Drug dependent': [False, False, False, False, True, False],\n",
    "         'Recidivist': [True, False, True, False, True, False],\n",
    "        }\n",
    "df2 = pd.DataFrame(data=data2)\n",
    "df2"
   ]
  },
  {
   "cell_type": "code",
   "execution_count": null,
   "metadata": {},
   "outputs": [],
   "source": [
    "# the function below calculates the entropy with input x as the % of a \"True\" Target\n",
    "def entropy(x):\n",
    "    if x == 1 or x == 0:\n",
    "        return 0.0\n",
    "    else:\n",
    "        return -x*np.log2(x)-(1-x)*np.log2(1-x)"
   ]
  },
  {
   "cell_type": "code",
   "execution_count": null,
   "metadata": {},
   "outputs": [],
   "source": [
    "# entropy of entire training dataset\n",
    "entropy(3/6)"
   ]
  },
  {
   "cell_type": "code",
   "execution_count": null,
   "metadata": {},
   "outputs": [],
   "source": [
    "# the function below prints the splited table based on column_name input\n",
    "def split_table_by_column(df,column_name):\n",
    "    print(df[df[column_name] == True])\n",
    "    print('\\n')\n",
    "    print(df[df[column_name] == False])"
   ]
  },
  {
   "cell_type": "code",
   "execution_count": null,
   "metadata": {},
   "outputs": [],
   "source": [
    "# the function below returns gain based on inputs\n",
    "def gain(p_true,e_true,e_false,original_gain):\n",
    "    p_false = 1 - p_true\n",
    "    return original_gain - (p_true * e_true + p_false * e_false)"
   ]
  },
  {
   "cell_type": "code",
   "execution_count": null,
   "metadata": {},
   "outputs": [],
   "source": [
    "# split table by Good Behavior\n",
    "split_table_by_column(df2,'Good Behavior')\n",
    "gain(3/6,entropy(1/3),entropy(2/3),1.0)"
   ]
  },
  {
   "cell_type": "code",
   "execution_count": null,
   "metadata": {},
   "outputs": [],
   "source": [
    "# split table by Age < 30\n",
    "split_table_by_column(df2,'Age < 30')\n",
    "gain(2/6,entropy(1),entropy(1/4),1.0)"
   ]
  },
  {
   "cell_type": "code",
   "execution_count": null,
   "metadata": {},
   "outputs": [],
   "source": [
    "# split table by Drug dependent\n",
    "split_table_by_column(df2,'Drug dependent')\n",
    "gain(1/6,entropy(1),entropy(2/5),1.0)"
   ]
  },
  {
   "cell_type": "code",
   "execution_count": null,
   "metadata": {},
   "outputs": [],
   "source": [
    "# Since split table by Age < 30 gives the highest gain, we first split by Age < 30"
   ]
  },
  {
   "cell_type": "markdown",
   "metadata": {},
   "source": [
    "## 2nd Split"
   ]
  },
  {
   "cell_type": "code",
   "execution_count": null,
   "metadata": {},
   "outputs": [],
   "source": [
    "# since Age < 30 = True are all Recidivist, we will look at the remaining dataset\n",
    "df3 = df2[df2['Age < 30'] == False]\n",
    "df3"
   ]
  },
  {
   "cell_type": "code",
   "execution_count": null,
   "metadata": {},
   "outputs": [],
   "source": [
    "# entropy of remaining training dataset\n",
    "entropy(1/4)"
   ]
  },
  {
   "cell_type": "code",
   "execution_count": null,
   "metadata": {},
   "outputs": [],
   "source": [
    "# split table by Good Behavior\n",
    "split_table_by_column(df3,'Good Behavior')\n",
    "gain(3/4,entropy(1/3),entropy(0/1),entropy(1/4))"
   ]
  },
  {
   "cell_type": "code",
   "execution_count": null,
   "metadata": {},
   "outputs": [],
   "source": [
    "# split table by Drug dependent\n",
    "split_table_by_column(df3,'Drug dependent')\n",
    "gain(1/4,entropy(1),entropy(0/3),entropy(1/4))"
   ]
  },
  {
   "cell_type": "code",
   "execution_count": null,
   "metadata": {},
   "outputs": [],
   "source": [
    "# Since split table by Drug dependent gives the highest gain, we secondly split by Drug dependent"
   ]
  },
  {
   "cell_type": "code",
   "execution_count": null,
   "metadata": {},
   "outputs": [],
   "source": [
    "# 1st split by Age < 30, if true, then Recidivist = True\n",
    "\n",
    "# 2nd split by Drug dependent, if Age > 30 and Drug dependent is true, then Recidivist = True\n",
    "# if Age > 30 and Drug dependent is false, then Recidivist = False"
   ]
  },
  {
   "cell_type": "markdown",
   "metadata": {},
   "source": [
    "# Question 3"
   ]
  },
  {
   "cell_type": "code",
   "execution_count": null,
   "metadata": {},
   "outputs": [],
   "source": [
    "# https://scikit-learn.org/stable/modules/model_evaluation.html#classification-metrics\n",
    "\n",
    "# Don't include: Accuracy, Sensitivity, recall, Specificity, Precision, ROC Curve, AUC, Log Loss\n",
    "\n",
    "# pick at least 2 and describe: what it is, how it is calculated, how it is different from accuracy, which scenarios it's best used\n",
    "\n",
    "# show example datasets/confusion matrices to illustrate your points"
   ]
  }
 ],
 "metadata": {
  "kernelspec": {
   "display_name": "Python 3",
   "language": "python",
   "name": "python3"
  },
  "language_info": {
   "codemirror_mode": {
    "name": "ipython",
    "version": 3
   },
   "file_extension": ".py",
   "mimetype": "text/x-python",
   "name": "python",
   "nbconvert_exporter": "python",
   "pygments_lexer": "ipython3",
   "version": "3.6.5"
  }
 },
 "nbformat": 4,
 "nbformat_minor": 2
}
